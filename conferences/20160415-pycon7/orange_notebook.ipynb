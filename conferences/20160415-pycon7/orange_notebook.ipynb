{
 "cells": [
  {
   "cell_type": "markdown",
   "metadata": {
    "slideshow": {
     "slide_type": "slide"
    }
   },
   "source": [
    "# <center>Demo: scripting in Orange</center>"
   ]
  },
  {
   "cell_type": "markdown",
   "metadata": {
    "slideshow": {
     "slide_type": "slide"
    }
   },
   "source": [
    "## Orange 3 installation\n",
    "\\# Download the lastest source code <br>\n",
    "wget https://github.com/biolab/orange3/archive/master.zip <br>\n",
    "unzip master.zip <br>\n",
    "cd orange3-master <br>"
   ]
  },
  {
   "cell_type": "markdown",
   "metadata": {
    "slideshow": {
     "slide_type": "subslide"
    }
   },
   "source": [
    "\\# Create virtualenv <br>\n",
    "/usr/local/bin/virtualenv-3.4 ~/envs/env_orange_34 <br>\n",
    "\n",
    "\\# Install the minimum required dependencies first <br>\n",
    "~/envs/env_orange_34/bin/pip3.4 install -r requirements-core.txt <br>\n",
    "~/envs/env_orange_34/bin/pip3.4 install -r requirements-gui.txt <br>"
   ]
  },
  {
   "cell_type": "markdown",
   "metadata": {
    "slideshow": {
     "slide_type": "subslide"
    }
   },
   "source": [
    "\\# Finally install Orange in editable/development mode. <br>\n",
    "~/envs/env_orange_34/bin/pip3.4 install -e . <br>"
   ]
  },
  {
   "cell_type": "code",
   "execution_count": null,
   "metadata": {
    "collapsed": false,
    "scrolled": false,
    "slideshow": {
     "slide_type": "slide"
    }
   },
   "outputs": [],
   "source": [
    "# Let's check the Orange installation\n",
    "import Orange\n",
    "import numpy as np\n",
    "import random\n",
    "\n",
    "print(\"Orange3 version: %s\" % Orange.version.version)"
   ]
  },
  {
   "cell_type": "code",
   "execution_count": null,
   "metadata": {
    "collapsed": false,
    "scrolled": false,
    "slideshow": {
     "slide_type": "slide"
    }
   },
   "outputs": [],
   "source": [
    "# Load table\n",
    "data = Orange.data.Table(\"iris\")\n",
    "\n",
    "# Print some rows\n",
    "print(\"Data instances: %d\\n\" % len(data))\n",
    "for i, row in enumerate(data[:3]):\n",
    "    print(\"Row %d ==> %s\" % (i, row))\n",
    "print(\"Rows 7-10:\\n\", data[7:10])"
   ]
  },
  {
   "cell_type": "code",
   "execution_count": null,
   "metadata": {
    "collapsed": false,
    "slideshow": {
     "slide_type": "subslide"
    }
   },
   "outputs": [],
   "source": [
    "from collections import Counter\n",
    "\n",
    "# Print class and attribute info\n",
    "print(\"Class: %s\" % data.domain.class_var.name)\n",
    "print(\"Class distribution: %s\\n\" % Counter(str(d.get_class()) for d in data))\n",
    "\n",
    "n_cont = len([a for a in data.domain.attributes if a.is_continuous])\n",
    "n_disc = len([a for a in data.domain.attributes if a.is_discrete])\n",
    "attrs = [x.name for x in data.domain.attributes]\n",
    "print(\"%d attributes %s: %d continuous, %d discrete\\n\" % \n",
    "      (len(attrs), attrs, n_cont, n_disc))"
   ]
  },
  {
   "cell_type": "code",
   "execution_count": null,
   "metadata": {
    "collapsed": false,
    "slideshow": {
     "slide_type": "slide"
    }
   },
   "outputs": [],
   "source": [
    "# Print mean for each feature\n",
    "print(\"%-15s %s\" % (\"Feature\", \"Mean\"))\n",
    "for x in data.domain.attributes:\n",
    "    print(\"%-15s %.2f\" % (x.name, np.mean([d[x] for d in data])))"
   ]
  },
  {
   "cell_type": "code",
   "execution_count": null,
   "metadata": {
    "collapsed": false,
    "slideshow": {
     "slide_type": "subslide"
    }
   },
   "outputs": [],
   "source": [
    "# Print mean for each attribute/class\n",
    "print(\"%-15s %s\" % \n",
    "      (\"Attribute\", \" \".join(\"%15s\" % c \n",
    "                             for c in data.domain.class_var.values)))\n",
    "\n",
    "for a in data.domain.attributes:\n",
    "    dist = [\"%15.2f\" % \n",
    "            np.mean([d[a] for d in data if d.get_class() == c]) \n",
    "            for c in data.domain.class_var.values]\n",
    "    print(\"%-15s\" % a.name, \" \".join(dist))"
   ]
  },
  {
   "cell_type": "code",
   "execution_count": null,
   "metadata": {
    "collapsed": false,
    "slideshow": {
     "slide_type": "slide"
    }
   },
   "outputs": [],
   "source": [
    "print(\"Available classification learners: \\n%s\" % \n",
    "      dir(Orange.classification))"
   ]
  },
  {
   "cell_type": "code",
   "execution_count": null,
   "metadata": {
    "collapsed": false,
    "slideshow": {
     "slide_type": "subslide"
    }
   },
   "outputs": [],
   "source": [
    "print(help(Orange.classification.TreeLearner))"
   ]
  },
  {
   "cell_type": "code",
   "execution_count": null,
   "metadata": {
    "collapsed": false,
    "slideshow": {
     "slide_type": "slide"
    }
   },
   "outputs": [],
   "source": [
    "# Learners CrossValidation\n",
    "\n",
    "nb = Orange.classification.NaiveBayesLearner()\n",
    "rf = Orange.classification.RandomForestLearner(n_estimators=100)\n",
    "t = Orange.classification.TreeLearner()\n",
    "m = Orange.classification.MajorityLearner()\n",
    "\n",
    "res = Orange.evaluation.CrossValidation(data, [nb, rf, t, m], k=10)\n",
    "\n",
    "print(\"Available scoring methods: \\n%s\" % \n",
    "      dir(Orange.evaluation.scoring))"
   ]
  },
  {
   "cell_type": "code",
   "execution_count": null,
   "metadata": {
    "collapsed": false,
    "slideshow": {
     "slide_type": "subslide"
    }
   },
   "outputs": [],
   "source": [
    "print(help(Orange.evaluation.scoring.MSE))"
   ]
  },
  {
   "cell_type": "code",
   "execution_count": null,
   "metadata": {
    "collapsed": false,
    "slideshow": {
     "slide_type": "subslide"
    }
   },
   "outputs": [],
   "source": [
    "print(\"Scoring for %s\\n\" % [nb.name, rf.name, t.name, m.name])\n",
    "\n",
    "print(\"Accuracy: %s\" % Orange.evaluation.scoring.CA(res))\n",
    "print(\"AUC: %s\" % Orange.evaluation.scoring.AUC(res))"
   ]
  },
  {
   "cell_type": "code",
   "execution_count": null,
   "metadata": {
    "collapsed": false,
    "slideshow": {
     "slide_type": "slide"
    }
   },
   "outputs": [],
   "source": [
    "tree_learner = Orange.classification.SimpleTreeLearner(max_depth=5)\n",
    "tree = tree_learner(data)\n",
    "print(tree.to_string())"
   ]
  }
 ],
 "metadata": {
  "celltoolbar": "Slideshow",
  "kernelspec": {
   "display_name": "Python 3",
   "language": "python",
   "name": "python3"
  },
  "language_info": {
   "codemirror_mode": {
    "name": "ipython",
    "version": 3
   },
   "file_extension": ".py",
   "mimetype": "text/x-python",
   "name": "python",
   "nbconvert_exporter": "python",
   "pygments_lexer": "ipython3",
   "version": "3.4.1"
  }
 },
 "nbformat": 4,
 "nbformat_minor": 0
}
